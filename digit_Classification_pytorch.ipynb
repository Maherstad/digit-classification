{
 "cells": [
  {
   "cell_type": "code",
   "execution_count": 6,
   "id": "8d4191a8-c51f-452c-bff2-aeda1d53f15d",
   "metadata": {},
   "outputs": [],
   "source": [
    "#checking that torch is using the GPU \n",
    "import torch\n",
    "import torch.nn as nn\n",
    "import torchvision\n",
    "import torchvision.transforms as transforms\n",
    "import matplotlib.pyplot as plt\n",
    "import numpy as np \n",
    "%matplotlib inline\n",
    "import wandb\n",
    "wandb.login()\n",
    "#run on gpu if available\n",
    "device = torch.device('cuda' if torch.cuda.is_available() else 'cpu')\n",
    "#torch.cuda.is_available()\n",
    "# torch.cuda.device_count()\n",
    "# torch.cuda.current_device()\n",
    "# torch.cuda.device(0)\n",
    "#torch.cuda.get_device_name(0)"
   ]
  },
  {
   "cell_type": "code",
   "execution_count": 7,
   "id": "82f586fb-075d-48fb-9993-3565ebac7f36",
   "metadata": {},
   "outputs": [],
   "source": [
    "config = dict(\n",
    "    input_size = 784 # flattened 28x28 images\n",
    "    hidden_size = 500 \n",
    "    num_classes = 10 # numbers from 0 to 9 \n",
    "    num_epochs = 20\n",
    "    batch_size = 100\n",
    "    learning_rate = 0.001,\n",
    "    dataset='MNIST',\n",
    "    architecture='CNN'\n",
    "    )\n",
    "\n",
    "input_size = 784 # flattened 28x28 images\n",
    "hidden_size = 500 \n",
    "num_classes = 10 # numbers from 0 to 9 \n",
    "num_epochs = 20\n",
    "batch_size = 100\n",
    "learning_rate = 0.001"
   ]
  },
  {
   "cell_type": "code",
   "execution_count": 8,
   "id": "8c324899-48ea-48ee-8358-4a84e4614374",
   "metadata": {},
   "outputs": [
    {
     "name": "stdout",
     "output_type": "stream",
     "text": [
      "torch.Size([100, 1, 28, 28]) torch.Size([100])\n"
     ]
    }
   ],
   "source": [
    "train_dataset = torchvision.datasets.MNIST(root='./data', train=True, transform=transforms.ToTensor(),download=True)\n",
    "test_dataset = torchvision.datasets.MNIST(root='./data', train=False, transform=transforms.ToTensor())\n",
    "train_loader = torch.utils.data.DataLoader(dataset=train_dataset, batch_size=batch_size,shuffle=True)\n",
    "test_loader = torch.utils.data.DataLoader(dataset=test_dataset, batch_size=batch_size,shuffle=False)\n",
    "\n",
    "examples = iter(train_loader)\n",
    "samples, labels = next(examples)\n",
    "print(samples.shape,labels.shape)"
   ]
  },
  {
   "cell_type": "code",
   "execution_count": 9,
   "id": "3b5a6e16-e630-425a-b522-a2ac7a2c15fa",
   "metadata": {},
   "outputs": [
    {
     "data": {
      "image/png": "[encoded data removed]",
      "text/plain": [
       "<Figure size 640x480 with 6 Axes>"
      ]
     },
     "metadata": {},
     "output_type": "display_data"
    }
   ],
   "source": [
    "#take a look at the data \n",
    "\n",
    "for i in range(6):\n",
    "    plt.subplot(2,3,i+1)\n",
    "    plt.imshow(samples[i,0,:,:],cmap='gray') # i , 0 because we want the FIRST channel"
   ]
  },
  {
   "cell_type": "code",
   "execution_count": null,
   "id": "6bd47d12-596a-46c7-a653-904b4d0ebdac",
   "metadata": {},
   "outputs": [],
   "source": [
    "class NeuralNet(nn.Module):\n",
    "    def __init__(self,input_size,hidden_size,num_classes):\n",
    "        super(NeuralNet,self).__init__()\n",
    "        self.l1=nn.Linear(input_size,hidden_size)\n",
    "        self.relu=nn.ReLU()\n",
    "        self.l2=nn.Linear(hidden_size,num_classes)\n",
    "        \n",
    "    def forward(self,x):\n",
    "        out=self.l1(x)\n",
    "        out=self.relu(out)\n",
    "        out=self.l2(out)\n",
    "        return out\n",
    "        \n",
    "model = NeuralNet(input_size, hidden_size, num_classes).to(device)\n",
    "\n",
    "criterion = nn.CrossEntropyLoss() #this will apply the softmax so we dont have to apply it above\n",
    "\n",
    "optimizer = torch.optim.Adam(model.parameters(),lr=learning_rate)\n",
    "\n",
    "#training loop\n",
    "n_total_steps = len(train_loader)\n",
    "\n",
    "for epoch in range(num_epochs):\n",
    "    for i, (images,labels) in enumerate(train_loader):\n",
    "        #shape of images 100, 1, 28, 28 \n",
    "        # 784 needed by image tensor \n",
    "        # so 100 * 784 \n",
    "        images = images.reshape(-1,28*28).to(device)\n",
    "        labels = labels.to(device)\n",
    "        \n",
    "        #forward\n",
    "        outputs= model(images)\n",
    "        loss= criterion(outputs,labels)\n",
    "        \n",
    "        #backwards\n",
    "        optimizer.zero_grad()\n",
    "        loss.backward()\n",
    "        optimizer.step()\n",
    "        \n",
    "        if (i+1) % 100 == 0:\n",
    "            print(f'epoch {epoch+1} / {num_epochs}, step {i+1}/{n_total_steps},loss={loss.item():.4f}')\n",
    "        "
   ]
  },
  {
   "cell_type": "code",
   "execution_count": null,
   "id": "e594d57a-221e-44ad-aed8-84e06cc10d28",
   "metadata": {},
   "outputs": [],
   "source": [
    "#test \n",
    "\n",
    "with torch.no_grad():\n",
    "    n_correct = 0 \n",
    "    n_samples = 0 \n",
    "    \n",
    "    for images , labels in test_loader: \n",
    "        images = images.reshape(-1,28*28).to(device)\n",
    "        labels = labels.to(device)\n",
    "        outputs = model(images) #trained model now\n",
    "        \n",
    "        _,predictions = torch.max(outputs,1) #returns the value and index, we are only interesed in the value though\n",
    "        \n",
    "        n_samples += labels.shape[0]\n",
    "        n_correct += (predictions ==labels).sum().item()\n",
    "        \n",
    "    acc= 100.0 * n_correct / n_samples\n",
    "    \n",
    "    print(f'accuracy is {acc}')"
   ]
  }
 ],
 "metadata": {
  "kernelspec": {
   "display_name": "Python 3 (ipykernel)",
   "language": "python",
   "name": "python3"
  },
  "language_info": {
   "codemirror_mode": {
    "name": "ipython",
    "version": 3
   },
   "file_extension": ".py",
   "mimetype": "text/x-python",
   "name": "python",
   "nbconvert_exporter": "python",
   "pygments_lexer": "ipython3",
   "version": "3.9.13"
  }
 },
 "nbformat": 4,
 "nbformat_minor": 5
}
