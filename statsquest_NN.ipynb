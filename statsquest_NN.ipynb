{
 "cells": [
  {
   "cell_type": "code",
   "execution_count": 3,
   "id": "806d7bae-dee7-40f5-b7c2-8d58a133a5a3",
   "metadata": {},
   "outputs": [],
   "source": [
    "import torch \n",
    "import torch.nn as nn #make weight and bias tensors part of the nn\n",
    "import torch.nn.functional as F #for the activations functions\n",
    "from torch.optim import SGD # the stochastic gradient descent\n",
    "\n",
    "import matplotlib.pyplot as plt\n",
    "import seaborn as sns"
   ]
  },
  {
   "cell_type": "code",
   "execution_count": 4,
   "id": "99f73767-d007-4a85-b742-952259c4f556",
   "metadata": {},
   "outputs": [],
   "source": [
    "class basicNN(nn.Module):\n",
    "    def __init__(self):\n",
    "         # call initialization method for parent class nn.Module (allows us to use methods of nn.Module)\n",
    "        super().__init__()\n",
    "        \n",
    "\n",
    "    def forward() # to connect the layers and build the NN"
   ]
  }
 ],
 "metadata": {
  "kernelspec": {
   "display_name": "Python 3 (ipykernel)",
   "language": "python",
   "name": "python3"
  },
  "language_info": {
   "codemirror_mode": {
    "name": "ipython",
    "version": 3
   },
   "file_extension": ".py",
   "mimetype": "text/x-python",
   "name": "python",
   "nbconvert_exporter": "python",
   "pygments_lexer": "ipython3",
   "version": "3.9.13"
  }
 },
 "nbformat": 4,
 "nbformat_minor": 5
}
